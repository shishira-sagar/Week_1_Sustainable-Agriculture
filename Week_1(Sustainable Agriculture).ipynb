{
 "cells": [
  {
   "cell_type": "code",
   "execution_count": 1,
   "id": "4d2da9cc-bf67-4c58-b70d-9c1bb8ae00fc",
   "metadata": {},
   "outputs": [],
   "source": [
    "# importing libraries\n",
    "import pandas as pd\n",
    "from sklearn.preprocessing import LabelEncoder, StandardScaler\n",
    "from sklearn.model_selection import train_test_split"
   ]
  },
  {
   "cell_type": "code",
   "execution_count": 5,
   "id": "f5c0b259-e570-4f64-8130-0271cad5e1c8",
   "metadata": {},
   "outputs": [],
   "source": [
    "# 1. Load the dataset\n",
    "data = pd.read_csv(r\"C:\\Users\\gpshi\\OneDrive\\Desktop\\py_dataset33.csv\")"
   ]
  },
  {
   "cell_type": "code",
   "execution_count": 7,
   "id": "c105366a-0898-4e83-80b9-9a164e996501",
   "metadata": {},
   "outputs": [
    {
     "name": "stdout",
     "output_type": "stream",
     "text": [
      "Dataset Info:\n",
      "<class 'pandas.core.frame.DataFrame'>\n",
      "RangeIndex: 3000 entries, 0 to 2999\n",
      "Data columns (total 15 columns):\n",
      " #   Column                      Non-Null Count  Dtype  \n",
      "---  ------                      --------------  -----  \n",
      " 0   Crop                        3000 non-null   object \n",
      " 1   Temperature (°C)            3000 non-null   float64\n",
      " 2   Humidity (%)                3000 non-null   float64\n",
      " 3   Rainfall (mm)               3000 non-null   float64\n",
      " 4   Soil Type                   3000 non-null   object \n",
      " 5   Soil pH                     3000 non-null   float64\n",
      " 6   Soil Moisture (%)           3000 non-null   float64\n",
      " 7   Wind Speed (km/h)           3000 non-null   float64\n",
      " 8   Solar Radiation (W/m²)      3000 non-null   float64\n",
      " 9   Weather Condition           3000 non-null   object \n",
      " 10  Precipitation (mm)          3000 non-null   float64\n",
      " 11  Evapotranspiration (ET)     3000 non-null   float64\n",
      " 12  Growth Stage                3000 non-null   object \n",
      " 13  Kc                          3000 non-null   float64\n",
      " 14  Water Requirement (mm/day)  3000 non-null   float64\n",
      "dtypes: float64(11), object(4)\n",
      "memory usage: 351.7+ KB\n",
      "None\n"
     ]
    }
   ],
   "source": [
    "# 2. Initial Data Exploration (EDA)\n",
    "print(\"Dataset Info:\")\n",
    "print(data.info())"
   ]
  },
  {
   "cell_type": "code",
   "execution_count": 9,
   "id": "40b82e05-f932-42c4-baf8-e20b16963798",
   "metadata": {},
   "outputs": [
    {
     "name": "stdout",
     "output_type": "stream",
     "text": [
      "\n",
      "Statistical Summary:\n",
      "       Temperature (°C)  Humidity (%)  Rainfall (mm)      Soil pH  \\\n",
      "count       3000.000000   3000.000000    3000.000000  3000.000000   \n",
      "mean          25.860367     63.588233      64.104267     6.472967   \n",
      "std            4.485384     11.208561      30.422029     0.487276   \n",
      "min           15.000000     40.000000      20.000000     5.500000   \n",
      "25%           22.975000     55.100000      40.100000     6.100000   \n",
      "50%           26.400000     63.500000      56.500000     6.400000   \n",
      "75%           29.100000     71.900000      82.925000     6.800000   \n",
      "max           34.900000     89.900000     149.900000     7.500000   \n",
      "\n",
      "       Soil Moisture (%)  Wind Speed (km/h)  Solar Radiation (W/m²)  \\\n",
      "count        3000.000000        3000.000000             3000.000000   \n",
      "mean           27.760867           8.218533              246.171167   \n",
      "std             5.066757           2.959062               31.054844   \n",
      "min            18.000000           2.100000              180.500000   \n",
      "25%            24.100000           5.900000              222.000000   \n",
      "50%            27.000000           7.900000              246.450000   \n",
      "75%            31.200000          10.200000              267.925000   \n",
      "max            40.000000          15.000000              320.000000   \n",
      "\n",
      "       Precipitation (mm)  Evapotranspiration (ET)           Kc  \\\n",
      "count         3000.000000              3000.000000  3000.000000   \n",
      "mean            10.420567                 1.396343     0.708750   \n",
      "std              6.613905                 0.423733     0.300443   \n",
      "min              0.100000                 0.410000     0.250000   \n",
      "25%              5.800000                 1.080000     0.400000   \n",
      "50%              9.000000                 1.350000     0.700000   \n",
      "75%             13.700000                 1.680000     1.000000   \n",
      "max             30.000000                 2.620000     1.250000   \n",
      "\n",
      "       Water Requirement (mm/day)  \n",
      "count                 3000.000000  \n",
      "mean                     2.475597  \n",
      "std                      0.661530  \n",
      "min                      1.000000  \n",
      "25%                      2.000000  \n",
      "50%                      2.385000  \n",
      "75%                      2.822500  \n",
      "max                      5.020000  \n"
     ]
    }
   ],
   "source": [
    "print(\"\\nStatistical Summary:\")\n",
    "print(data.describe())"
   ]
  },
  {
   "cell_type": "code",
   "execution_count": 11,
   "id": "735853aa-5fe8-4a34-b2f6-8df920513827",
   "metadata": {},
   "outputs": [
    {
     "name": "stdout",
     "output_type": "stream",
     "text": [
      "\n",
      "Missing Values:\n",
      "Crop                          0\n",
      "Temperature (°C)              0\n",
      "Humidity (%)                  0\n",
      "Rainfall (mm)                 0\n",
      "Soil Type                     0\n",
      "Soil pH                       0\n",
      "Soil Moisture (%)             0\n",
      "Wind Speed (km/h)             0\n",
      "Solar Radiation (W/m²)        0\n",
      "Weather Condition             0\n",
      "Precipitation (mm)            0\n",
      "Evapotranspiration (ET)       0\n",
      "Growth Stage                  0\n",
      "Kc                            0\n",
      "Water Requirement (mm/day)    0\n",
      "dtype: int64\n"
     ]
    }
   ],
   "source": [
    "print(\"\\nMissing Values:\")\n",
    "print(data.isnull().sum())"
   ]
  },
  {
   "cell_type": "code",
   "execution_count": 13,
   "id": "7c3dd4a7-9f9b-4f48-87e8-776c061f7679",
   "metadata": {},
   "outputs": [
    {
     "name": "stdout",
     "output_type": "stream",
     "text": [
      "Shape of the dataset: (3000, 15)\n"
     ]
    }
   ],
   "source": [
    "print(\"Shape of the dataset:\", data.shape) "
   ]
  },
  {
   "cell_type": "code",
   "execution_count": 15,
   "id": "3ad34052-e7b7-4b0d-8a97-eecacbbd2096",
   "metadata": {},
   "outputs": [],
   "source": [
    "# 3. Data Cleaning & Handling Missing Values\n",
    "data = data.fillna({\n",
    "    'Temperature (°C)': data['Temperature (°C)'].mean(),\n",
    "    'Humidity (%)': data['Humidity (%)'].mean(),\n",
    "    'Rainfall (mm)': data['Rainfall (mm)'].mean(),\n",
    "    'Soil Type': data['Soil Type'].mode()[0],\n",
    "    'Weather Condition': data['Weather Condition'].mode()[0]\n",
    "})"
   ]
  },
  {
   "cell_type": "code",
   "execution_count": 17,
   "id": "87f135cc-a458-4647-9a5d-d0eb786ffcf8",
   "metadata": {},
   "outputs": [],
   "source": [
    "# 4. Handle Inconsistencies in Categorical Columns (if any)\n",
    "# Eg: standardizing text\n",
    "data['Soil Type'] = data['Soil Type'].str.strip().str.lower()\n",
    "data['Weather Condition'] = data['Weather Condition'].str.strip().str.lower()"
   ]
  },
  {
   "cell_type": "code",
   "execution_count": 19,
   "id": "7aebe68d-0537-468d-9595-277103058842",
   "metadata": {},
   "outputs": [],
   "source": [
    "# 5. Encode Categorical Variables\n",
    "categorical_cols = data.select_dtypes(include=['object']).columns\n",
    "label_encoders = {}\n",
    "for col in categorical_cols:\n",
    "    le = LabelEncoder()\n",
    "    data[col] = le.fit_transform(data[col])\n",
    "    label_encoders[col] = le"
   ]
  },
  {
   "cell_type": "code",
   "execution_count": 21,
   "id": "35e12c69-3245-4bfd-ab7f-9b9d54044045",
   "metadata": {},
   "outputs": [],
   "source": [
    "# 6. Scale Numerical Features\n",
    "numerical_cols = ['Temperature (°C)', 'Humidity (%)', 'Rainfall (mm)']\n",
    "scaler = StandardScaler()\n",
    "data[numerical_cols] = scaler.fit_transform(data[numerical_cols])"
   ]
  },
  {
   "cell_type": "code",
   "execution_count": 23,
   "id": "2bcb6f0b-06a5-4065-8784-6a18e9de7161",
   "metadata": {},
   "outputs": [],
   "source": [
    "# 7. Prepare Features and Target\n",
    "X = data.drop('Water Requirement (mm/day)', axis=1)\n",
    "y = data['Water Requirement (mm/day)']"
   ]
  },
  {
   "cell_type": "code",
   "execution_count": 25,
   "id": "106e09a7-4a22-4504-aa79-251895ad606d",
   "metadata": {},
   "outputs": [],
   "source": [
    "# 8. Train-Test Split\n",
    "X_train, X_test, y_train, y_test = train_test_split(\n",
    "    X, y, test_size=0.2, random_state=42\n",
    ")"
   ]
  },
  {
   "cell_type": "code",
   "execution_count": 29,
   "id": "7afa14af-ff0e-4c9f-a84e-58c2e1a81eb4",
   "metadata": {},
   "outputs": [
    {
     "name": "stdout",
     "output_type": "stream",
     "text": [
      "\n",
      "Training set size: (2400, 14)\n",
      "Testing set size: (600, 14)\n"
     ]
    }
   ],
   "source": [
    "# To verify\n",
    "print(\"\\nTraining set size:\", X_train.shape)\n",
    "print(\"Testing set size:\", X_test.shape)"
   ]
  },
  {
   "cell_type": "code",
   "execution_count": null,
   "id": "54f54744-6015-4ece-83c7-8aea1d4d4060",
   "metadata": {},
   "outputs": [],
   "source": []
  }
 ],
 "metadata": {
  "kernelspec": {
   "display_name": "Python [conda env:base] *",
   "language": "python",
   "name": "conda-base-py"
  },
  "language_info": {
   "codemirror_mode": {
    "name": "ipython",
    "version": 3
   },
   "file_extension": ".py",
   "mimetype": "text/x-python",
   "name": "python",
   "nbconvert_exporter": "python",
   "pygments_lexer": "ipython3",
   "version": "3.12.7"
  }
 },
 "nbformat": 4,
 "nbformat_minor": 5
}
